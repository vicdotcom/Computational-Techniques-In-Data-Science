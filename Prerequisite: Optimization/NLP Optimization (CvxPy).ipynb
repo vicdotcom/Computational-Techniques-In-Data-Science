{
 "cells": [
  {
   "cell_type": "code",
   "execution_count": 1,
   "metadata": {},
   "outputs": [],
   "source": [
    "import numpy as np\n",
    "import cvxpy as cp\n",
    "\n",
    "import matplotlib.pyplot as plt"
   ]
  },
  {
   "cell_type": "markdown",
   "metadata": {},
   "source": [
    "Note that the objective function and/or its constraints must be either linear, convex/concave or quadratic. Otherwise it will return an error if for example a bilinear function e.g.- $(x_1x_2)$ is present "
   ]
  },
  {
   "cell_type": "markdown",
   "metadata": {},
   "source": [
    "### Constrained NLP Optimization"
   ]
  },
  {
   "cell_type": "markdown",
   "metadata": {},
   "source": [
    "Objective Function:\n",
    "$$Max \\space \\space f(x_1,x_2)= 15x_1 + 30x_2 + 4x_2 - 2x_1^2 - 4x_2^2$$\n",
    "\n",
    "s.t. \n",
    "$$x_1 + 2x_2 \\leq 30$$\n",
    "$$x_1 + x_2 \\leq 15$$\n",
    "$$x_1, x_2 \\geq 0$$"
   ]
  },
  {
   "cell_type": "code",
   "execution_count": 8,
   "metadata": {},
   "outputs": [
    {
     "name": "stdout",
     "output_type": "stream",
     "text": [
      "x = 3.7500000000000004, y = 4.25\n",
      "Maximized Value: 100.375\n"
     ]
    }
   ],
   "source": [
    "## Decision Variables\n",
    "x1= cp.Variable(nonneg= True) # x ≥ 0\n",
    "x2= cp.Variable(nonneg= True) # y ≥ 0\n",
    "\n",
    "## Objective function\n",
    "F= cp.Maximize(15*x1 + 30*x2 + 4*x2 - 2*x1**2 - 4*x2**2)\n",
    "\n",
    "## Constraints\n",
    "cons1= [x1*2 + 2*x2 <= 30,\n",
    "        x1 + 2*x2 <= 15]\n",
    "\n",
    "## Optimization\n",
    "prob1= cp.Problem(F, cons1)\n",
    "prob1.solve()\n",
    "\n",
    "print(f\"x = {x1.value}, y = {x2.value}\")\n",
    "print(f\"Maximized Value: {prob1.value}\") "
   ]
  },
  {
   "cell_type": "markdown",
   "metadata": {},
   "source": [
    "*****"
   ]
  },
  {
   "cell_type": "markdown",
   "metadata": {},
   "source": [
    "### Unconstrained Optimization"
   ]
  },
  {
   "cell_type": "markdown",
   "metadata": {},
   "source": [
    "$$Max \\space \\space 12 - 3x^4 -2x^6$$"
   ]
  },
  {
   "cell_type": "code",
   "execution_count": 5,
   "metadata": {},
   "outputs": [
    {
     "name": "stdout",
     "output_type": "stream",
     "text": [
      "x = 0.0035692835034028883\n",
      "Maximized Value: 11.99999999951309\n"
     ]
    }
   ],
   "source": [
    "x= cp.Variable()\n",
    "\n",
    "obj2= cp.Maximize(12 - 3*x**4 - 2*x**6)\n",
    "\n",
    "prob2= cp.Problem(obj2)\n",
    "prob2.solve()\n",
    "\n",
    "print(f\"x = {x.value}\")\n",
    "print(f\"Maximized Value: {prob2.value}\")"
   ]
  },
  {
   "cell_type": "markdown",
   "metadata": {},
   "source": []
  },
  {
   "cell_type": "code",
   "execution_count": 4,
   "metadata": {},
   "outputs": [
    {
     "data": {
      "text/plain": [
       "11.999999998884952"
      ]
     },
     "execution_count": 4,
     "metadata": {},
     "output_type": "execute_result"
    }
   ],
   "source": [
    "12 - 3*x.value**4 - 2*x.value**6"
   ]
  }
 ],
 "metadata": {
  "kernelspec": {
   "display_name": "Python 3",
   "language": "python",
   "name": "python3"
  },
  "language_info": {
   "codemirror_mode": {
    "name": "ipython",
    "version": 3
   },
   "file_extension": ".py",
   "mimetype": "text/x-python",
   "name": "python",
   "nbconvert_exporter": "python",
   "pygments_lexer": "ipython3",
   "version": "3.13.1"
  }
 },
 "nbformat": 4,
 "nbformat_minor": 2
}
